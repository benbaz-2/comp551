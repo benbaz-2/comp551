{
  "cells": [
    {
      "cell_type": "markdown",
      "metadata": {
        "id": "view-in-github",
        "colab_type": "text"
      },
      "source": [
        "<a href=\"https://colab.research.google.com/github/benbaz-2/comp551/blob/main/assignment3.ipynb\" target=\"_parent\"><img src=\"https://colab.research.google.com/assets/colab-badge.svg\" alt=\"Open In Colab\"/></a>"
      ]
    },
    {
      "cell_type": "markdown",
      "metadata": {
        "id": "fyLjY-QaZcq3"
      },
      "source": [
        "# Assignment 3"
      ]
    },
    {
      "cell_type": "markdown",
      "metadata": {
        "id": "HvvmOu_BZgk0"
      },
      "source": [
        "## Installations"
      ]
    },
    {
      "cell_type": "code",
      "execution_count": 59,
      "metadata": {
        "colab": {
          "base_uri": "https://localhost:8080/"
        },
        "id": "ILasGEk1ZXIO",
        "outputId": "e6c39c05-8ba7-4ca8-d73c-1418d7b26bd4"
      },
      "outputs": [
        {
          "output_type": "stream",
          "name": "stdout",
          "text": [
            "Requirement already satisfied: medmnist in /usr/local/lib/python3.10/dist-packages (3.0.2)\n",
            "Requirement already satisfied: numpy in /usr/local/lib/python3.10/dist-packages (from medmnist) (1.26.4)\n",
            "Requirement already satisfied: pandas in /usr/local/lib/python3.10/dist-packages (from medmnist) (2.2.2)\n",
            "Requirement already satisfied: scikit-learn in /usr/local/lib/python3.10/dist-packages (from medmnist) (1.5.2)\n",
            "Requirement already satisfied: scikit-image in /usr/local/lib/python3.10/dist-packages (from medmnist) (0.24.0)\n",
            "Requirement already satisfied: tqdm in /usr/local/lib/python3.10/dist-packages (from medmnist) (4.66.6)\n",
            "Requirement already satisfied: Pillow in /usr/local/lib/python3.10/dist-packages (from medmnist) (11.0.0)\n",
            "Requirement already satisfied: fire in /usr/local/lib/python3.10/dist-packages (from medmnist) (0.7.0)\n",
            "Requirement already satisfied: torch in /usr/local/lib/python3.10/dist-packages (from medmnist) (2.5.1+cu121)\n",
            "Requirement already satisfied: torchvision in /usr/local/lib/python3.10/dist-packages (from medmnist) (0.20.1+cu121)\n",
            "Requirement already satisfied: termcolor in /usr/local/lib/python3.10/dist-packages (from fire->medmnist) (2.5.0)\n",
            "Requirement already satisfied: python-dateutil>=2.8.2 in /usr/local/lib/python3.10/dist-packages (from pandas->medmnist) (2.8.2)\n",
            "Requirement already satisfied: pytz>=2020.1 in /usr/local/lib/python3.10/dist-packages (from pandas->medmnist) (2024.2)\n",
            "Requirement already satisfied: tzdata>=2022.7 in /usr/local/lib/python3.10/dist-packages (from pandas->medmnist) (2024.2)\n",
            "Requirement already satisfied: scipy>=1.9 in /usr/local/lib/python3.10/dist-packages (from scikit-image->medmnist) (1.13.1)\n",
            "Requirement already satisfied: networkx>=2.8 in /usr/local/lib/python3.10/dist-packages (from scikit-image->medmnist) (3.4.2)\n",
            "Requirement already satisfied: imageio>=2.33 in /usr/local/lib/python3.10/dist-packages (from scikit-image->medmnist) (2.36.0)\n",
            "Requirement already satisfied: tifffile>=2022.8.12 in /usr/local/lib/python3.10/dist-packages (from scikit-image->medmnist) (2024.9.20)\n",
            "Requirement already satisfied: packaging>=21 in /usr/local/lib/python3.10/dist-packages (from scikit-image->medmnist) (24.2)\n",
            "Requirement already satisfied: lazy-loader>=0.4 in /usr/local/lib/python3.10/dist-packages (from scikit-image->medmnist) (0.4)\n",
            "Requirement already satisfied: joblib>=1.2.0 in /usr/local/lib/python3.10/dist-packages (from scikit-learn->medmnist) (1.4.2)\n",
            "Requirement already satisfied: threadpoolctl>=3.1.0 in /usr/local/lib/python3.10/dist-packages (from scikit-learn->medmnist) (3.5.0)\n",
            "Requirement already satisfied: filelock in /usr/local/lib/python3.10/dist-packages (from torch->medmnist) (3.16.1)\n",
            "Requirement already satisfied: typing-extensions>=4.8.0 in /usr/local/lib/python3.10/dist-packages (from torch->medmnist) (4.12.2)\n",
            "Requirement already satisfied: jinja2 in /usr/local/lib/python3.10/dist-packages (from torch->medmnist) (3.1.4)\n",
            "Requirement already satisfied: fsspec in /usr/local/lib/python3.10/dist-packages (from torch->medmnist) (2024.10.0)\n",
            "Requirement already satisfied: sympy==1.13.1 in /usr/local/lib/python3.10/dist-packages (from torch->medmnist) (1.13.1)\n",
            "Requirement already satisfied: mpmath<1.4,>=1.1.0 in /usr/local/lib/python3.10/dist-packages (from sympy==1.13.1->torch->medmnist) (1.3.0)\n",
            "Requirement already satisfied: six>=1.5 in /usr/local/lib/python3.10/dist-packages (from python-dateutil>=2.8.2->pandas->medmnist) (1.16.0)\n",
            "Requirement already satisfied: MarkupSafe>=2.0 in /usr/local/lib/python3.10/dist-packages (from jinja2->torch->medmnist) (3.0.2)\n"
          ]
        }
      ],
      "source": [
        "!pip install medmnist"
      ]
    },
    {
      "cell_type": "code",
      "source": [
        "import numpy as np\n",
        "import matplotlib.pyplot as plt"
      ],
      "metadata": {
        "id": "6DNIO7cgcLCB"
      },
      "execution_count": 82,
      "outputs": []
    },
    {
      "cell_type": "markdown",
      "metadata": {
        "id": "xfsVojAJZqRf"
      },
      "source": [
        "## Load dataset"
      ]
    },
    {
      "cell_type": "code",
      "execution_count": 61,
      "metadata": {
        "colab": {
          "base_uri": "https://localhost:8080/"
        },
        "id": "VxFzryaQZoyj",
        "outputId": "4444499f-eae8-4489-9fd5-54a4b29333ae"
      },
      "outputs": [
        {
          "output_type": "stream",
          "name": "stdout",
          "text": [
            "Using downloaded and verified file: /root/.medmnist/organamnist.npz\n",
            "Using downloaded and verified file: /root/.medmnist/organamnist.npz\n"
          ]
        }
      ],
      "source": [
        "from medmnist import OrganAMNIST\n",
        "train_dataset = OrganAMNIST(split='train', download=True)\n",
        "test_dataset = OrganAMNIST(split='test', download=True)"
      ]
    },
    {
      "cell_type": "code",
      "execution_count": 62,
      "metadata": {
        "id": "A3mdeb9LaAhP"
      },
      "outputs": [],
      "source": [
        "# Put the data in numpy arrays\n",
        "x_train, y_train = train_dataset.imgs, train_dataset.labels\n",
        "x_test, y_test = test_dataset.imgs, test_dataset.labels"
      ]
    },
    {
      "cell_type": "code",
      "source": [
        "# vectorize x\n",
        "x_train = x_train.reshape(x_train.shape[0], -1)\n",
        "x_test = x_test.reshape(x_test.shape[0], -1)\n"
      ],
      "metadata": {
        "id": "BN-EfTiJdXQC"
      },
      "execution_count": 63,
      "outputs": []
    },
    {
      "cell_type": "code",
      "source": [
        "# center and normalize data\n",
        "mean_train = np.mean(x_train, axis=1, keepdims=True)\n",
        "std_train = np.std(x_train, axis=1, keepdims=True)\n",
        "x_train = (x_train - mean_train) / std_train\n",
        "\n",
        "mean_test = np.mean(x_test, axis=1, keepdims=True)\n",
        "std_test = np.std(x_test, axis=1, keepdims=True)\n",
        "x_test = (x_test - mean_test) / std_test"
      ],
      "metadata": {
        "id": "xF0Z45f1gOI5"
      },
      "execution_count": 64,
      "outputs": []
    },
    {
      "cell_type": "code",
      "source": [
        "y = np.zeros((y_train.shape[0], 11))\n",
        "for i in range(y.shape[0]):\n",
        "  j = y_train[i]\n",
        "  y[i, j] = 1\n",
        "y_train_one_hot = y\n",
        "\n",
        "y = np.zeros((y_test.shape[0], 11))\n",
        "for i in range(y.shape[0]):\n",
        "  j = y_test[i]\n",
        "  y[i, j] = 1\n",
        "y_test_one_hot = y\n"
      ],
      "metadata": {
        "id": "Y89YqBcvi_Hk"
      },
      "execution_count": 65,
      "outputs": []
    },
    {
      "cell_type": "markdown",
      "source": [
        "## Implement a MLP"
      ],
      "metadata": {
        "id": "3fEAnoK3OYsj"
      }
    },
    {
      "cell_type": "code",
      "source": [
        "# Activation functions\n",
        "\n",
        "ReLU = lambda x: np.maximum(0, x)\n",
        "Softmax = lambda x: np.exp(x) / np.sum(np.exp(x), axis=1, keepdims=True)\n",
        "cross_entropy = lambda y_true, y_pred: -np.sum(y_true * np.log(y_pred)) / y_true.shape[0]"
      ],
      "metadata": {
        "id": "hGNWQsf5_eHR"
      },
      "execution_count": 66,
      "outputs": []
    },
    {
      "cell_type": "code",
      "source": [
        "# This class represents an arbitrary layer\n",
        "class NeuralNetLayer:\n",
        "  def __init__(self):\n",
        "    self.gradient = None\n",
        "    self.parameters = None\n",
        "\n",
        "  def forward(self, x):\n",
        "    raise NotImplementedError()\n",
        "\n",
        "  def backward(self, x):\n",
        "    raise NotImplementedError()"
      ],
      "metadata": {
        "id": "nwXd3Ve8i6dW"
      },
      "execution_count": 67,
      "outputs": []
    },
    {
      "cell_type": "code",
      "source": [
        "# This class represents an arbitrary neural network\n",
        "class DeepMLP:\n",
        "  def __init__(self, layers=[], log=True):\n",
        "    self.layers = layers\n",
        "    if log:\n",
        "      self.losses = []\n",
        "    else self.losses = None\n",
        "\n",
        "  def forward(self, x):\n",
        "    for layer in self.layers:\n",
        "      x = layer.forward(x)\n",
        "    return x\n",
        "\n",
        "  def backward(self, x):\n",
        "    for layer in self.layers[::-1]:\n",
        "      x = layer.backward(x)\n",
        "\n",
        "  def fit(self, x, y, loss=cross_entropy, epochs=100, lr=0.01):\n",
        "    for epoch in range(epochs):\n",
        "      y_pred = self.forward(x)\n",
        "      loss_value = loss(y, y_pred)\n",
        "      dl = y_pred - y\n",
        "      self.backward(dl)\n",
        "      print(epoch, end=' ')\n",
        "      if log:\n",
        "        self.losses.append(loss_value)\n",
        "\n",
        "      for layer in self.layers:\n",
        "        if layer.parameters:  # Only update layers that have parameters\n",
        "          for param in layer.parameters:\n",
        "            layer.parameters[param] -= lr * layer.gradient[param]\n",
        "\n",
        "\n",
        "  def predict(self, x):\n",
        "    return np.argmax(self.forward(x), axis=1)\n"
      ],
      "metadata": {
        "id": "RUqJtJMIhx1G"
      },
      "execution_count": 74,
      "outputs": []
    },
    {
      "cell_type": "code",
      "source": [
        "# Implement a linear layer\n",
        "\n",
        "class LinearLayer(NeuralNetLayer):\n",
        "\n",
        "  def __init__(self, input_size, output_size, log=True): # D, M\n",
        "    super().__init__()\n",
        "    self.input_size = input_size\n",
        "    self.output_size = output_size\n",
        "    self.input = None\n",
        "    self.output = None\n",
        "\n",
        "    # Use Xavier initialization\n",
        "    self.parameters = {\n",
        "        'weights': np.random.randn(input_size, output_size) * np.sqrt(1 / (input_size)),\n",
        "        'bias': np.zeros(output_size)\n",
        "    }\n",
        "\n",
        "    self.gradient = {\n",
        "        'weights': np.zeros((input_size, output_size)),\n",
        "        'bias': np.zeros(output_size)\n",
        "    }\n",
        "\n",
        "  def forward(self, x):\n",
        "    self.input = x  # N x D\n",
        "    return np.dot(x, self.parameters['weights']) + self.parameters['bias']  # N x M\n",
        "\n",
        "  def backward(self, dz):  # N x M\n",
        "    self.gradient['weights'] = np.dot(self.input.T , dz)  # D X M\n",
        "    self.gradient['bias'] = np.sum(dz, axis=0) # M\n",
        "    return np.dot(dz, self.parameters['weights'].T)   # Return N x D gradient for next layer in backpropagation\n"
      ],
      "metadata": {
        "id": "iGO-K7HLhcm1"
      },
      "execution_count": 75,
      "outputs": []
    },
    {
      "cell_type": "code",
      "source": [
        "class ReLULayer(NeuralNetLayer):\n",
        "  def __init__(self):\n",
        "    super().__init__()\n",
        "    self.input = None\n",
        "    self.output = None\n",
        "\n",
        "  def forward(self, x):\n",
        "    self.input = x  # N x D\n",
        "    return ReLU(x)\n",
        "\n",
        "  def backward(self, dz):\n",
        "    return dz * (self.input > 0) # N x D Element wise multiplication"
      ],
      "metadata": {
        "id": "6V_5CISZhOXu"
      },
      "execution_count": 76,
      "outputs": []
    },
    {
      "cell_type": "code",
      "source": [
        "class SoftmaxLayer(NeuralNetLayer):\n",
        "    def __init__(self):\n",
        "        super().__init__()\n",
        "        self.input = None\n",
        "        self.output = None\n",
        "\n",
        "    def forward(self, x):\n",
        "        \"\"\"\n",
        "        Perform the forward pass for the softmax activation.\n",
        "        Args:\n",
        "            x (np.ndarray): Input data of shape (N, D) where N is the number of samples and D is the number of features.\n",
        "        Returns:\n",
        "            np.ndarray: Softmax probabilities of shape (N, D).\n",
        "        \"\"\"\n",
        "        self.input = x  # Save input for backpropagation\n",
        "        exp_x = np.exp(x - np.max(x, axis=1, keepdims=True))  # Stability trick to prevent overflow\n",
        "        self.output = exp_x / np.sum(exp_x, axis=1, keepdims=True)\n",
        "        return self.output\n",
        "\n",
        "    def backward(self, dz):\n",
        "        \"\"\"\n",
        "        Perform the backward pass for the softmax activation.\n",
        "        Args:\n",
        "            dz (np.ndarray): Gradient of loss with respect to the output of this layer (N, D).\n",
        "        Returns:\n",
        "            np.ndarray: Gradient of loss with respect to the input of this layer (N, D).\n",
        "        \"\"\"\n",
        "        N, D = dz.shape\n",
        "        grad = np.zeros_like(dz)\n",
        "        for i in range(N):\n",
        "            s = self.output[i].reshape(-1, 1)  # (D, 1)\n",
        "            jacobian = np.diagflat(s) - np.dot(s, s.T)  # (D, D)\n",
        "            grad[i] = np.dot(jacobian, dz[i])  # Chain rule application\n",
        "        return grad"
      ],
      "metadata": {
        "id": "t5SzobQwrDxn"
      },
      "execution_count": 77,
      "outputs": []
    },
    {
      "cell_type": "markdown",
      "source": [
        "## Model Training"
      ],
      "metadata": {
        "id": "ryd0wQm5og-l"
      }
    },
    {
      "cell_type": "code",
      "source": [
        "model = DeepMLP()\n",
        "model.layers.append(LinearLayer(784, 128))\n",
        "model.layers.append(ReLULayer())\n",
        "model.layers.append(LinearLayer(128, 11))\n",
        "model.layers.append(SoftmaxLayer())"
      ],
      "metadata": {
        "id": "MGKCefBLhiHq"
      },
      "execution_count": 78,
      "outputs": []
    },
    {
      "cell_type": "code",
      "source": [
        "model.fit(x_train, y_train_one_hot)"
      ],
      "metadata": {
        "id": "o24YTft-Dqp9",
        "outputId": "37b173bf-ac68-4c9f-d34f-87becb6987df",
        "colab": {
          "base_uri": "https://localhost:8080/"
        }
      },
      "execution_count": 79,
      "outputs": [
        {
          "output_type": "stream",
          "name": "stdout",
          "text": [
            "0 1 2 3 4 5 6 7 8 9 10 11 12 13 14 15 16 17 18 19 20 21 22 23 24 25 26 27 28 29 30 31 32 33 34 35 36 37 38 39 40 41 42 43 44 45 46 47 48 49 50 51 52 53 54 55 56 57 58 59 60 61 62 63 64 65 66 67 68 69 70 71 72 73 74 75 76 77 78 79 80 81 82 83 84 85 86 87 88 89 90 91 92 93 94 95 96 97 98 99 "
          ]
        }
      ]
    },
    {
      "cell_type": "code",
      "source": [
        "yh = model.predict(x_test)\n",
        "total = len(yh)\n",
        "correct = 0\n",
        "\n",
        "for i in range(total):\n",
        "  if yh[i] == y_test[i]:\n",
        "    correct += 1\n",
        "\n",
        "accuracy = correct / total\n",
        "accuracy"
      ],
      "metadata": {
        "id": "_9Ii_jVmFAU1",
        "outputId": "282d0f34-ba12-4b59-ea28-4aa7b5e0eb55",
        "colab": {
          "base_uri": "https://localhost:8080/"
        }
      },
      "execution_count": 80,
      "outputs": [
        {
          "output_type": "execute_result",
          "data": {
            "text/plain": [
              "0.08848014399820002"
            ]
          },
          "metadata": {},
          "execution_count": 80
        }
      ]
    },
    {
      "cell_type": "code",
      "source": [
        "yh[0:10], y_test[0:10]"
      ],
      "metadata": {
        "id": "inx3ChWCF0pX",
        "outputId": "0a694419-673a-4efd-de28-b488615c273b",
        "colab": {
          "base_uri": "https://localhost:8080/"
        }
      },
      "execution_count": 81,
      "outputs": [
        {
          "output_type": "execute_result",
          "data": {
            "text/plain": [
              "(array([ 6,  1,  8,  7,  7,  7,  1, 10,  7,  7]),\n",
              " array([[4],\n",
              "        [0],\n",
              "        [8],\n",
              "        [6],\n",
              "        [5],\n",
              "        [0],\n",
              "        [8],\n",
              "        [7],\n",
              "        [0],\n",
              "        [6]], dtype=uint8))"
            ]
          },
          "metadata": {},
          "execution_count": 81
        }
      ]
    },
    {
      "cell_type": "code",
      "source": [
        "plt.plot(losses)"
      ],
      "metadata": {
        "id": "pLo4mdD0JxAn"
      },
      "execution_count": 81,
      "outputs": []
    }
  ],
  "metadata": {
    "colab": {
      "provenance": [],
      "authorship_tag": "ABX9TyMJajKzwzHhwBlLHBNMWggd",
      "include_colab_link": true
    },
    "kernelspec": {
      "display_name": "Python 3",
      "name": "python3"
    },
    "language_info": {
      "name": "python"
    }
  },
  "nbformat": 4,
  "nbformat_minor": 0
}