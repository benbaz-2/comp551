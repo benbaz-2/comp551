{
  "cells": [
    {
      "cell_type": "markdown",
      "metadata": {
        "id": "view-in-github",
        "colab_type": "text"
      },
      "source": [
        "<a href=\"https://colab.research.google.com/github/benbaz-2/comp551/blob/main/assignment3.ipynb\" target=\"_parent\"><img src=\"https://colab.research.google.com/assets/colab-badge.svg\" alt=\"Open In Colab\"/></a>"
      ]
    },
    {
      "cell_type": "markdown",
      "metadata": {
        "id": "fyLjY-QaZcq3"
      },
      "source": [
        "# Assignment 3"
      ]
    },
    {
      "cell_type": "markdown",
      "metadata": {
        "id": "HvvmOu_BZgk0"
      },
      "source": [
        "## Installations"
      ]
    },
    {
      "cell_type": "code",
      "execution_count": 1,
      "metadata": {
        "colab": {
          "base_uri": "https://localhost:8080/"
        },
        "id": "ILasGEk1ZXIO",
        "outputId": "733512e0-694a-4915-b30d-14e5c2753007"
      },
      "outputs": [
        {
          "output_type": "stream",
          "name": "stdout",
          "text": [
            "Collecting medmnist\n",
            "  Downloading medmnist-3.0.2-py3-none-any.whl.metadata (14 kB)\n",
            "Requirement already satisfied: numpy in /usr/local/lib/python3.10/dist-packages (from medmnist) (1.26.4)\n",
            "Requirement already satisfied: pandas in /usr/local/lib/python3.10/dist-packages (from medmnist) (2.2.2)\n",
            "Requirement already satisfied: scikit-learn in /usr/local/lib/python3.10/dist-packages (from medmnist) (1.5.2)\n",
            "Requirement already satisfied: scikit-image in /usr/local/lib/python3.10/dist-packages (from medmnist) (0.24.0)\n",
            "Requirement already satisfied: tqdm in /usr/local/lib/python3.10/dist-packages (from medmnist) (4.66.6)\n",
            "Requirement already satisfied: Pillow in /usr/local/lib/python3.10/dist-packages (from medmnist) (11.0.0)\n",
            "Collecting fire (from medmnist)\n",
            "  Downloading fire-0.7.0.tar.gz (87 kB)\n",
            "\u001b[2K     \u001b[90m━━━━━━━━━━━━━━━━━━━━━━━━━━━━━━━━━━━━━━━━\u001b[0m \u001b[32m87.2/87.2 kB\u001b[0m \u001b[31m2.3 MB/s\u001b[0m eta \u001b[36m0:00:00\u001b[0m\n",
            "\u001b[?25h  Preparing metadata (setup.py) ... \u001b[?25l\u001b[?25hdone\n",
            "Requirement already satisfied: torch in /usr/local/lib/python3.10/dist-packages (from medmnist) (2.5.0+cu121)\n",
            "Requirement already satisfied: torchvision in /usr/local/lib/python3.10/dist-packages (from medmnist) (0.20.0+cu121)\n",
            "Requirement already satisfied: termcolor in /usr/local/lib/python3.10/dist-packages (from fire->medmnist) (2.5.0)\n",
            "Requirement already satisfied: python-dateutil>=2.8.2 in /usr/local/lib/python3.10/dist-packages (from pandas->medmnist) (2.8.2)\n",
            "Requirement already satisfied: pytz>=2020.1 in /usr/local/lib/python3.10/dist-packages (from pandas->medmnist) (2024.2)\n",
            "Requirement already satisfied: tzdata>=2022.7 in /usr/local/lib/python3.10/dist-packages (from pandas->medmnist) (2024.2)\n",
            "Requirement already satisfied: scipy>=1.9 in /usr/local/lib/python3.10/dist-packages (from scikit-image->medmnist) (1.13.1)\n",
            "Requirement already satisfied: networkx>=2.8 in /usr/local/lib/python3.10/dist-packages (from scikit-image->medmnist) (3.4.2)\n",
            "Requirement already satisfied: imageio>=2.33 in /usr/local/lib/python3.10/dist-packages (from scikit-image->medmnist) (2.36.0)\n",
            "Requirement already satisfied: tifffile>=2022.8.12 in /usr/local/lib/python3.10/dist-packages (from scikit-image->medmnist) (2024.9.20)\n",
            "Requirement already satisfied: packaging>=21 in /usr/local/lib/python3.10/dist-packages (from scikit-image->medmnist) (24.2)\n",
            "Requirement already satisfied: lazy-loader>=0.4 in /usr/local/lib/python3.10/dist-packages (from scikit-image->medmnist) (0.4)\n",
            "Requirement already satisfied: joblib>=1.2.0 in /usr/local/lib/python3.10/dist-packages (from scikit-learn->medmnist) (1.4.2)\n",
            "Requirement already satisfied: threadpoolctl>=3.1.0 in /usr/local/lib/python3.10/dist-packages (from scikit-learn->medmnist) (3.5.0)\n",
            "Requirement already satisfied: filelock in /usr/local/lib/python3.10/dist-packages (from torch->medmnist) (3.16.1)\n",
            "Requirement already satisfied: typing-extensions>=4.8.0 in /usr/local/lib/python3.10/dist-packages (from torch->medmnist) (4.12.2)\n",
            "Requirement already satisfied: jinja2 in /usr/local/lib/python3.10/dist-packages (from torch->medmnist) (3.1.4)\n",
            "Requirement already satisfied: fsspec in /usr/local/lib/python3.10/dist-packages (from torch->medmnist) (2024.10.0)\n",
            "Requirement already satisfied: sympy==1.13.1 in /usr/local/lib/python3.10/dist-packages (from torch->medmnist) (1.13.1)\n",
            "Requirement already satisfied: mpmath<1.4,>=1.1.0 in /usr/local/lib/python3.10/dist-packages (from sympy==1.13.1->torch->medmnist) (1.3.0)\n",
            "Requirement already satisfied: six>=1.5 in /usr/local/lib/python3.10/dist-packages (from python-dateutil>=2.8.2->pandas->medmnist) (1.16.0)\n",
            "Requirement already satisfied: MarkupSafe>=2.0 in /usr/local/lib/python3.10/dist-packages (from jinja2->torch->medmnist) (3.0.2)\n",
            "Downloading medmnist-3.0.2-py3-none-any.whl (25 kB)\n",
            "Building wheels for collected packages: fire\n",
            "  Building wheel for fire (setup.py) ... \u001b[?25l\u001b[?25hdone\n",
            "  Created wheel for fire: filename=fire-0.7.0-py3-none-any.whl size=114249 sha256=03493ef7955d3375d5420f126460f5187da9633135cdd8ef461b0c7249d316fe\n",
            "  Stored in directory: /root/.cache/pip/wheels/19/39/2f/2d3cadc408a8804103f1c34ddd4b9f6a93497b11fa96fe738e\n",
            "Successfully built fire\n",
            "Installing collected packages: fire, medmnist\n",
            "Successfully installed fire-0.7.0 medmnist-3.0.2\n"
          ]
        }
      ],
      "source": [
        "!pip install medmnist"
      ]
    },
    {
      "cell_type": "code",
      "source": [
        "import numpy as np"
      ],
      "metadata": {
        "id": "6DNIO7cgcLCB"
      },
      "execution_count": 2,
      "outputs": []
    },
    {
      "cell_type": "markdown",
      "metadata": {
        "id": "xfsVojAJZqRf"
      },
      "source": [
        "## Load dataset"
      ]
    },
    {
      "cell_type": "code",
      "execution_count": 3,
      "metadata": {
        "colab": {
          "base_uri": "https://localhost:8080/"
        },
        "id": "VxFzryaQZoyj",
        "outputId": "a79e5343-7a84-43de-d9f1-f8e69a17438a"
      },
      "outputs": [
        {
          "output_type": "stream",
          "name": "stdout",
          "text": [
            "Downloading https://zenodo.org/records/10519652/files/organamnist.npz?download=1 to /root/.medmnist/organamnist.npz\n"
          ]
        },
        {
          "output_type": "stream",
          "name": "stderr",
          "text": [
            "100%|██████████| 38.2M/38.2M [00:02<00:00, 19.1MB/s]\n"
          ]
        },
        {
          "output_type": "stream",
          "name": "stdout",
          "text": [
            "Using downloaded and verified file: /root/.medmnist/organamnist.npz\n"
          ]
        }
      ],
      "source": [
        "from medmnist import OrganAMNIST\n",
        "train_dataset = OrganAMNIST(split='train', download=True)\n",
        "test_dataset = OrganAMNIST(split='test', download=True)"
      ]
    },
    {
      "cell_type": "code",
      "execution_count": 4,
      "metadata": {
        "id": "A3mdeb9LaAhP"
      },
      "outputs": [],
      "source": [
        "# Put the data in numpy arrays\n",
        "x_train, y_train = train_dataset.imgs, train_dataset.labels\n",
        "x_test, y_test = test_dataset.imgs, test_dataset.labels"
      ]
    },
    {
      "cell_type": "code",
      "source": [
        "# vectorize x\n",
        "x_train = x_train.reshape(x_train.shape[0], -1)\n",
        "x_test = x_test.reshape(x_test.shape[0], -1)\n"
      ],
      "metadata": {
        "colab": {
          "base_uri": "https://localhost:8080/"
        },
        "id": "BN-EfTiJdXQC",
        "outputId": "9c8fe74d-aaf9-4b5a-f16a-2c3fa0a0fd9c"
      },
      "execution_count": 10,
      "outputs": [
        {
          "output_type": "execute_result",
          "data": {
            "text/plain": [
              "array([[6],\n",
              "       [8],\n",
              "       [5],\n",
              "       ...,\n",
              "       [0],\n",
              "       [8],\n",
              "       [8]], dtype=uint8)"
            ]
          },
          "metadata": {},
          "execution_count": 10
        }
      ]
    },
    {
      "cell_type": "code",
      "source": [
        "# center and normalize data\n",
        "mean_train = np.mean(x_train, axis=1, keepdims=True)\n",
        "std_train = np.std(x_train, axis=1, keepdims=True)\n",
        "x_train = (x_train - mean_train) / std_train\n",
        "\n",
        "mean_test = np.mean(x_test, axis=1, keepdims=True)\n",
        "std_test = np.std(x_test, axis=1, keepdims=True)\n",
        "x_test = (x_test - mean_test) / std_test"
      ],
      "metadata": {
        "id": "xF0Z45f1gOI5"
      },
      "execution_count": 6,
      "outputs": []
    },
    {
      "cell_type": "markdown",
      "source": [
        "## Implement a MLP"
      ],
      "metadata": {
        "id": "3fEAnoK3OYsj"
      }
    },
    {
      "cell_type": "code",
      "source": [
        "# Activation functions\n",
        "\n",
        "ReLU = lambda x: np.maximum(0, x)\n",
        "Softmax = lambda x: np.exp(x) / np.sum(np.exp(x), axis=1, keepdims=True)"
      ],
      "metadata": {
        "id": "hGNWQsf5_eHR"
      },
      "execution_count": 13,
      "outputs": []
    },
    {
      "cell_type": "code",
      "source": [
        "\n",
        "class MLP:\n",
        "  def __init__(self, hidden_activation=ReLU, output_activation=Softmax, hidden_sizes=[256, 256], input_size=784, output_size=11):\n",
        "    self.hidden_activation = hidden_activation\n",
        "    self.output_activation = output_activation\n",
        "    self.hidden_sizes = hidden_sizes\n",
        "    self.input_size = input_size\n",
        "    self.output_size = output_size\n",
        "\n",
        "    # Concatenate the layer sizes into a single list\n",
        "    layer_sizes = [self.input_size] + self.hidden_sizes + [self.output_size]\n",
        "\n",
        "    # Store the weights in a list of matrices with sizes determined by layer_sizes\n",
        "    # The weights are initialized with Xavier initialization\n",
        "    self.weights = [\n",
        "                    np.random.uniform(\n",
        "                        - (6 / (layer_sizes[i + 1] + layer_sizes[i])) ** 0.5,\n",
        "                          (6 / (layer_sizes[i + 1] + layer_sizes[i])) ** 0.5,\n",
        "                          (layer_sizes[i + 1], layer_sizes[i]))\n",
        "                    for i in range(len(layer_sizes) - 1)\n",
        "                    ]\n",
        "    # Store the bias in a list of vectors\n",
        "    self.biases = [np.zeros((layer_sizes[i+1], 1)) for i in range(len(layer_sizes) - 1)]\n",
        "\n",
        "  def fit(self, X, y, max_iter=100, learning_rate=0.01, batch_size=32, verbose=True, epsilon=1e-3):\n",
        "    norm = np.inf\n",
        "    while norm > epsilon and i < max_iter:\n",
        "      # Shuffle the data\n",
        "      permutation = np.random.permutation(X.shape[0])\n",
        "      x = X[permutation]\n",
        "      y = y[permutation]\n",
        "      gradient = grad(x, y)\n",
        "      self.weights =\n",
        "\n"
      ],
      "metadata": {
        "id": "nwXd3Ve8i6dW"
      },
      "execution_count": 27,
      "outputs": []
    },
    {
      "cell_type": "code",
      "source": [
        "model = MLP()\n",
        "\n",
        "for i in range(len(model.weights)):\n",
        "    print(model.weights[i].shape, model.biases[i].shape)"
      ],
      "metadata": {
        "colab": {
          "base_uri": "https://localhost:8080/"
        },
        "id": "sjeCLVVqjlzW",
        "outputId": "029126e4-96c1-4af8-d1b0-fdf61e603f53"
      },
      "execution_count": 29,
      "outputs": [
        {
          "output_type": "stream",
          "name": "stdout",
          "text": [
            "(256, 784) (256, 1)\n",
            "(256, 256) (256, 1)\n",
            "(11, 256) (11, 1)\n"
          ]
        }
      ]
    },
    {
      "cell_type": "code",
      "source": [],
      "metadata": {
        "id": "SIMnZNhH__QP"
      },
      "execution_count": null,
      "outputs": []
    }
  ],
  "metadata": {
    "colab": {
      "provenance": [],
      "authorship_tag": "ABX9TyM503Zf2RWTo8LTEQdC3v0C",
      "include_colab_link": true
    },
    "kernelspec": {
      "display_name": "Python 3",
      "name": "python3"
    },
    "language_info": {
      "name": "python"
    }
  },
  "nbformat": 4,
  "nbformat_minor": 0
}